{
 "cells": [
  {
   "cell_type": "code",
   "execution_count": null,
   "metadata": {},
   "outputs": [],
   "source": [
    "import os\n",
    "import zipfile\n",
    "\n",
    "import pandas as pd\n",
    "import snowflake.snowpark.functions as F\n",
    "import snowflake.snowpark.types as T\n",
    "import xgboost as xgb\n",
    "from dotenv import load_dotenv\n",
    "from snowflake.snowpark import Session\n",
    "\n",
    "load_dotenv(override=True)\n",
    "\n",
    "connection_params = {\n",
    "    \"account\": os.environ.get(\"SNOWFLAKE_ACCOUNT\"),\n",
    "    \"user\": os.environ.get(\"SNOWFLAKE_USER\"),\n",
    "    \"password\": os.environ.get(\"SNOWFLAKE_PASSWORD\"),\n",
    "    \"role\": \"SYSADMIN\",\n",
    "    \"database\": \"MARCH_MADNESS\",\n",
    "    \"warehouse\": \"MARCH_MADNESS_WH\",\n",
    "    \"schema\": \"COMMON\",\n",
    "}\n",
    "\n",
    "session = Session.builder.configs(connection_params).create()"
   ]
  },
  {
   "attachments": {},
   "cell_type": "markdown",
   "metadata": {},
   "source": [
    "Data Ingestion."
   ]
  },
  {
   "cell_type": "code",
   "execution_count": null,
   "metadata": {},
   "outputs": [],
   "source": [
    "# Open the zip file using the 'with' statement to ensure proper closing\n",
    "with zipfile.ZipFile(\"../data/march-machine-learning-mania-2023.zip\") as zf:\n",
    "    # Iterate over the files in the zip file\n",
    "    for file in zf.filelist:\n",
    "        # Check if the file is a CSV file\n",
    "        if file.filename.endswith(\".csv\"):\n",
    "            # Open the CSV file within the zip file\n",
    "            with zf.open(file.filename) as z:\n",
    "                # Read the CSV file into a pandas DataFrame using the ISO-8859-1 encoding\n",
    "                df = pd.read_csv(z, encoding=\"iso-8859-1\")\n",
    "            \n",
    "            # Create the table name for the Snowflake schema using the CSV file name\n",
    "            table_name = f\"RAW.{file.filename.split('/')[-1].replace('.csv', '').upper()}\"\n",
    "            \n",
    "            # Convert the column names to uppercase\n",
    "            df.columns = [col.upper() for col in df.columns]\n",
    "            \n",
    "            # Save the pandas DataFrame as a table in Snowflake with the specified table name\n",
    "            # and overwrite the table if it already exists\n",
    "            session.create_dataframe(df).write.save_as_table(\n",
    "                table_name=table_name, mode=\"overwrite\"\n",
    "            )"
   ]
  },
  {
   "attachments": {},
   "cell_type": "markdown",
   "metadata": {},
   "source": [
    "Feature Engineering."
   ]
  },
  {
   "cell_type": "code",
   "execution_count": null,
   "metadata": {},
   "outputs": [],
   "source": [
    "def prepare_season_averages(session: Session, source_table: str, target_table: str) -> str:\n",
    "    # Assign Snowflake DataFrame to Men's Season Results table.\n",
    "    mens_season_results = session.table(source_table)\n",
    "\n",
    "    # Drop DAYNUM and WLOC as they aren't needed. \n",
    "    mens_season_results = mens_season_results.drop(\"DAYNUM\", \"WLOC\")\n",
    "\n",
    "    # Drop any columns that start with an L.\n",
    "    w_mens_season_results = mens_season_results.select(*[col for col in mens_season_results.columns if not col.startswith(\"L\")])\n",
    "    w_mens_season_results = w_mens_season_results.select([F.col(col).alias(col[1:]) if col.startswith(\"W\") else col for col in w_mens_season_results.columns])\n",
    "\n",
    "    # Drop any columns that start with an L.\n",
    "    l_mens_season_results = mens_season_results.select(*[col for col in mens_season_results.columns if not col.startswith(\"W\")])\n",
    "    l_mens_season_results = l_mens_season_results.select([F.col(col).alias(col[1:]) if col.startswith(\"L\") else col for col in l_mens_season_results.columns])\n",
    "\n",
    "    # Union these dataframes for the entirety of the seasonal stats. \n",
    "    union_mens_season_results = w_mens_season_results.union(l_mens_season_results)\n",
    "\n",
    "    # Average all columns besides SEASON and TEAMID.\n",
    "    avg_union_mens_season_results = union_mens_season_results.group_by('SEASON', 'TEAMID').agg(\n",
    "    *[F.avg(F.col(c)).alias(c) for c in union_mens_season_results.columns if c not in ['SEASON', 'TEAMID']])\n",
    "\n",
    "    avg_union_mens_season_results.write.save_as_table(target_table, mode=\"overwrite\")\n",
    "\n",
    "    return f\"Successfully created {target_table}.\""
   ]
  },
  {
   "cell_type": "code",
   "execution_count": null,
   "metadata": {},
   "outputs": [],
   "source": [
    "prepare_season_averages(session, \"RAW.MREGULARSEASONDETAILEDRESULTS\", \"FEATURES.MAVGSEASONDETAILEDRESULTS\")"
   ]
  },
  {
   "cell_type": "code",
   "execution_count": null,
   "metadata": {},
   "outputs": [],
   "source": [
    "session.sproc.register(\n",
    "    func=prepare_season_averages,\n",
    "    return_type=T.StringType(),\n",
    "    input_types=[T.StringType(), T.StringType()],\n",
    "    name=\"PREPARE_SEASON_AVERAGES\",\n",
    "    is_permanent=True,\n",
    "    stage_location=\"@COMMON.PYTHON_CODE\",\n",
    "    packages=[\"snowflake-snowpark-python\"],\n",
    "    replace=True,\n",
    "    source_code_display=True,\n",
    ")"
   ]
  },
  {
   "attachments": {},
   "cell_type": "markdown",
   "metadata": {},
   "source": [
    "Average the Men's regular season detailed stats and the tournament detailed stats. "
   ]
  },
  {
   "cell_type": "code",
   "execution_count": null,
   "metadata": {},
   "outputs": [],
   "source": [
    "session.call(\"PREPARE_SEASON_AVERAGES\", \"RAW.MREGULARSEASONDETAILEDRESULTS\", \"FEATURES.MAVGSEASONDETAILEDRESULTS\")"
   ]
  },
  {
   "cell_type": "code",
   "execution_count": null,
   "metadata": {},
   "outputs": [],
   "source": [
    "session.call(\"PREPARE_SEASON_AVERAGES\", \"RAW.MNCAATOURNEYDETAILEDRESULTS\", \"FEATURES.MAVGTOURNEYDETAILEDRESULTS\")"
   ]
  }
 ],
 "metadata": {
  "kernelspec": {
   "display_name": "venv",
   "language": "python",
   "name": "python3"
  },
  "language_info": {
   "codemirror_mode": {
    "name": "ipython",
    "version": 3
   },
   "file_extension": ".py",
   "mimetype": "text/x-python",
   "name": "python",
   "nbconvert_exporter": "python",
   "pygments_lexer": "ipython3",
   "version": "3.8.16"
  }
 },
 "nbformat": 4,
 "nbformat_minor": 2
}
