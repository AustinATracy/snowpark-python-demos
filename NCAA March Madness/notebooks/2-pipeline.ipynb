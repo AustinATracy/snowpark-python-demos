{
 "cells": [
  {
   "cell_type": "code",
   "execution_count": 4,
   "metadata": {},
   "outputs": [],
   "source": [
    "from snowflake.snowpark import Session\n",
    "from dotenv import load_dotenv\n",
    "import os\n",
    "import pandas as pd\n",
    "import xgboost as xgb\n",
    "import zipfile\n",
    "\n",
    "load_dotenv(override=True)\n",
    "\n",
    "connection_params = {\n",
    "    \"account\": os.environ.get(\"SNOWFLAKE_ACCOUNT\"),\n",
    "    \"user\": os.environ.get(\"SNOWFLAKE_USER\"),\n",
    "    \"password\": os.environ.get(\"SNOWFLAKE_PASSWORD\"),\n",
    "    \"role\": \"SYSADMIN\",\n",
    "    \"database\": \"MARCH_MADNESS\",\n",
    "    \"warehouse\": \"MARCH_MADNESS_WH\",\n",
    "    \"schema\": \"COMMON\",\n",
    "}\n",
    "\n",
    "session = Session.builder.configs(connection_params).create()"
   ]
  },
  {
   "cell_type": "code",
   "execution_count": 5,
   "metadata": {},
   "outputs": [],
   "source": [
    "# Open the zip file using the 'with' statement to ensure proper closing\n",
    "with zipfile.ZipFile(\"../data/march-machine-learning-mania-2023.zip\") as zf:\n",
    "    # Iterate over the files in the zip file\n",
    "    for file in zf.filelist:\n",
    "        # Check if the file is a CSV file\n",
    "        if file.filename.endswith(\".csv\"):\n",
    "            # Open the CSV file within the zip file\n",
    "            with zf.open(file.filename) as z:\n",
    "                # Read the CSV file into a pandas DataFrame using the ISO-8859-1 encoding\n",
    "                df = pd.read_csv(z, encoding=\"iso-8859-1\")\n",
    "            \n",
    "            # Create the table name for the Snowflake schema using the CSV file name\n",
    "            table_name = f\"RAW.{file.filename.split('/')[-1].replace('.csv', '').upper()}\"\n",
    "            \n",
    "            # Convert the column names to uppercase\n",
    "            df.columns = [col.upper() for col in df.columns]\n",
    "            \n",
    "            # Save the pandas DataFrame as a table in Snowflake with the specified table name\n",
    "            # and overwrite the table if it already exists\n",
    "            session.create_dataframe(df).write.save_as_table(\n",
    "                table_name=table_name, mode=\"overwrite\"\n",
    "            )"
   ]
  }
 ],
 "metadata": {
  "kernelspec": {
   "display_name": "venv",
   "language": "python",
   "name": "python3"
  },
  "language_info": {
   "codemirror_mode": {
    "name": "ipython",
    "version": 3
   },
   "file_extension": ".py",
   "mimetype": "text/x-python",
   "name": "python",
   "nbconvert_exporter": "python",
   "pygments_lexer": "ipython3",
   "version": "3.8.10"
  },
  "orig_nbformat": 4
 },
 "nbformat": 4,
 "nbformat_minor": 2
}
